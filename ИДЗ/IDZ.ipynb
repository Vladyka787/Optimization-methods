{
 "cells": [
  {
   "cell_type": "code",
   "execution_count": 1,
   "id": "initial_id",
   "metadata": {
    "collapsed": true,
    "ExecuteTime": {
     "end_time": "2024-01-08T21:27:50.996802068Z",
     "start_time": "2024-01-08T21:27:50.984070779Z"
    }
   },
   "outputs": [],
   "source": [
    "import math\n",
    "import random\n",
    "from tabulate import tabulate\n",
    "\n",
    "def sambrero_funk(x1, x2):\n",
    "    result = (1 - pow(math.sin(math.sqrt(pow(x1,2) + pow(x2,2))),2)/(1 + 0.001 * (pow(x1,2) + pow(x2,2)))) + 100\n",
    "    return result\n",
    "\n",
    "def gen_population(population_size, bottom_line, upper_limit):\n",
    "    return [[random.uniform(bottom_line, upper_limit), random.uniform(bottom_line, upper_limit)] for _ in range(population_size)]\n",
    "\n",
    "def gen_population_kod_Grey(population_size, bottom_line, upper_limit):\n",
    "    return [[random.randint(bottom_line, upper_limit), random.randint(bottom_line, upper_limit)] for _ in range(population_size)]\n",
    "\n",
    "def display_population(population):\n",
    "    # Выводит популяцию в виде красивой таблицы.\n",
    "    # \n",
    "    # :param population: Список особей (каждая особь представлена в виде списка значений)\n",
    "\n",
    "    headers = [f\"Хромосома {i + 1}\" for i in range(len(population[0]))]\n",
    "    table = tabulate(population, headers=headers, tablefmt=\"fancy_grid\")\n",
    "    print(table)"
   ]
  },
  {
   "cell_type": "code",
   "outputs": [],
   "source": [
    "# принимает вещественное число и возвращает его код Грея\n",
    "def decimal_to_gray_binary(decimal):\n",
    "    gray = decimal ^ (decimal >> 1)\n",
    "    binary_gray = bin(gray)[2:]\n",
    "    return binary_gray\n",
    "\n",
    "# принимает код Грея в вещественное число\n",
    "def gray_binary_to_decimal(gray_binary):\n",
    "    gray_decimal = int(gray_binary, 2)\n",
    "    decimal = 0\n",
    "    while gray_decimal:\n",
    "        decimal ^= gray_decimal\n",
    "        gray_decimal >>= 1\n",
    "    return decimal\n",
    "\n",
    "# принимает популяцию вещественных чисел и возвращает ее в коде Грея\n",
    "def population_to_gray(decimal_population):\n",
    "    gray_population = []\n",
    "\n",
    "    for decimal_individual in decimal_population:\n",
    "        gray_individual = [decimal_to_gray_binary(gene) for gene in decimal_individual]\n",
    "        gray_population.append(gray_individual)\n",
    "    \n",
    "    return gray_population\n",
    "\n",
    "# принимает популяцию чисел в коде Грея и возвращает ее в виде целых чисел\n",
    "def population_to_decimal(gray_population):\n",
    "    decimal_population = []\n",
    "\n",
    "    for gray_individual in gray_population:\n",
    "        decimal_individual = [gray_binary_to_decimal(gene) for gene in gray_individual]\n",
    "        decimal_population.append(decimal_individual)\n",
    "\n",
    "    return decimal_population"
   ],
   "metadata": {
    "collapsed": false,
    "ExecuteTime": {
     "end_time": "2024-01-08T21:27:51.000266866Z",
     "start_time": "2024-01-08T21:27:50.998362558Z"
    }
   },
   "id": "6395c6472a55640",
   "execution_count": 2
  },
  {
   "cell_type": "markdown",
   "source": [
    "Функции отбора родителей"
   ],
   "metadata": {
    "collapsed": false
   },
   "id": "f1ac09c1aae40f35"
  },
  {
   "cell_type": "code",
   "outputs": [],
   "source": [
    "def tournament_otbor(population, tournament_size):\n",
    "    # Выполняет турнирный отбор родителей из популяции.\n",
    "    # \n",
    "    # :param population: Список особей (родителей)\n",
    "    # :param tournament_size: Размер турнира, количество участников турнира\n",
    "    # :return: Особь-победитель турнира (родитель)\n",
    "    \n",
    "    if len(population) < tournament_size:\n",
    "        raise ValueError(\"Размер турнира не может быть больше размера популяции\")\n",
    "\n",
    "    # Выбираем случайные участников турнира\n",
    "    tournament_participants = random.sample(population, tournament_size)\n",
    "\n",
    "    # Сортируем участников турнира по их приспособленности\n",
    "    tournament_participants.sort(key=lambda x: sambrero_funk(x[0],x[1]), reverse=True)\n",
    "\n",
    "    # Возвращаем особь-победителя турнира\n",
    "    return tournament_participants[0]"
   ],
   "metadata": {
    "collapsed": false,
    "ExecuteTime": {
     "end_time": "2024-01-08T21:27:51.037849431Z",
     "start_time": "2024-01-08T21:27:51.000302624Z"
    }
   },
   "id": "99d9715cec1666b9",
   "execution_count": 3
  },
  {
   "cell_type": "code",
   "outputs": [],
   "source": [
    "def euclidean_distance(v1, v2):\n",
    "    # Вычисляет евклидово расстояние между двумя векторами.\n",
    "    # \n",
    "    # :param v1: Первый вектор (список значений)\n",
    "    # :param v2: Второй вектор (список значений)\n",
    "    # :return: Евклидово расстояние между векторами\n",
    "    \n",
    "    return math.sqrt(sum((x - y)**2 for x, y in zip(v1, v2)))\n",
    "\n",
    "def inbreeding_with_distance(parent, population):\n",
    "    # Выполняет инбридинг между первым родителем и вторым родителем,\n",
    "    # выбранным из популяции ближайшим к первому по евклидову расстоянию.\n",
    "    # \n",
    "    # :param parent: Первый родитель (список значений)\n",
    "    # :param population: Список особей в популяции (каждая особь - список значений)\n",
    "    # :return: Список, содержащий двух потомков после инбридинга\n",
    "    \n",
    "    # Исключаем родителя из популяции\n",
    "    available_parents = [ind for ind in population if ind != parent]\n",
    "    \n",
    "    closest_parent = min(available_parents, key=lambda ind: euclidean_distance(parent, ind))\n",
    "    \n",
    "    offspring = [(gene_parent + gene_closest) / 2 for gene_parent, gene_closest in zip(parent, closest_parent)]\n",
    "\n",
    "    return offspring\n",
    "\n",
    "def inbreeding_with_distance_for_grey(parent, population):\n",
    "    # Выполняет инбридинг между первым родителем и вторым родителем,\n",
    "    # выбранным из популяции ближайшим к первому по евклидову расстоянию.\n",
    "    # \n",
    "    # :param parent: Первый родитель (список значений)\n",
    "    # :param population: Список особей в популяции (каждая особь - список значений)\n",
    "    # :return: Список, содержащий двух потомков после инбридинга\n",
    "    \n",
    "    # Исключаем родителя из популяции\n",
    "    available_parents = [ind for ind in population if ind != parent]\n",
    "    \n",
    "    closest_parent = min(available_parents, key=lambda ind: euclidean_distance(parent, ind))\n",
    "    \n",
    "    # Выполняем инбридинг\n",
    "    offspring = [round((gene_parent + gene_closest) / 2 + random.choice([-0.5, 0.5])) for gene_parent, gene_closest in zip(parent, closest_parent)]\n",
    "    \n",
    "    # Убеждаемся, что значения генов находятся в пределах [0, 10]\n",
    "    offspring = [max(0, min(10, gene)) for gene in offspring]\n",
    "\n",
    "    return offspring"
   ],
   "metadata": {
    "collapsed": false,
    "ExecuteTime": {
     "end_time": "2024-01-08T21:27:51.038298637Z",
     "start_time": "2024-01-08T21:27:51.024776976Z"
    }
   },
   "id": "96774ef7cf1bf1c",
   "execution_count": 4
  },
  {
   "cell_type": "markdown",
   "source": [
    "Функция проверки сходимости"
   ],
   "metadata": {
    "collapsed": false
   },
   "id": "10376a819fd99d27"
  },
  {
   "cell_type": "code",
   "outputs": [],
   "source": [
    "def convergence_check(population, convergence_threshold):\n",
    "    \n",
    "    # Проверяет схождение популяции, основываясь на среднем расстоянии между хромосомами.\n",
    "    # \n",
    "    # :param population: Популяция\n",
    "    # :param convergence_threshold: Порог схождения, расстояние, ниже которого популяция считается сойденной\n",
    "    # :return: True, если популяция сошлась, False в противном случае\n",
    "    \n",
    "    if len(population) < 2:\n",
    "        return False\n",
    "\n",
    "    total_distance = 0\n",
    "\n",
    "    for i in range(len(population) - 1):\n",
    "        for j in range(i + 1, len(population)):\n",
    "            # Рассчитываем евклидово расстояние между хромосомами\n",
    "            distance = ((population[i][0] - population[j][0])**2 + (population[i][1] - population[j][1])**2)**0.5\n",
    "            total_distance += distance\n",
    "\n",
    "    # Среднее расстояние между хромосомами\n",
    "    average_distance = total_distance / (len(population) * (len(population) - 1) / 2)\n",
    "\n",
    "    # print(average_distance)\n",
    "\n",
    "    # Проверка схождения\n",
    "    return average_distance < convergence_threshold"
   ],
   "metadata": {
    "collapsed": false,
    "ExecuteTime": {
     "end_time": "2024-01-08T21:27:51.038670602Z",
     "start_time": "2024-01-08T21:27:51.024977555Z"
    }
   },
   "id": "45dedc6c4b22fd0b",
   "execution_count": 5
  },
  {
   "cell_type": "markdown",
   "source": [
    "Функции рекомбинации"
   ],
   "metadata": {
    "collapsed": false
   },
   "id": "6be0340cc5d1a018"
  },
  {
   "cell_type": "code",
   "outputs": [],
   "source": [
    "def discrete_recombination(parent1, parent2):\n",
    "    \n",
    "    # Выполняет дискретную рекомбинацию для вещественных чисел между двумя родителями.\n",
    "    # \n",
    "    # :param parent1: Первый родитель (список вещественных чисел)\n",
    "    # :param parent2: Второй родитель (список вещественных чисел)\n",
    "    # :return: Offspring Потомок (новая особь после рекомбинации)\n",
    "    \n",
    "    if len(parent1) != len(parent2):\n",
    "        raise ValueError(\"Размеры родителей должны быть одинаковыми\")\n",
    "\n",
    "    individual_length = len(parent1)\n",
    "    split_point = random.randint(1, individual_length - 1)\n",
    "\n",
    "    # Выбираем значения от первого родителя до точки раздела\n",
    "    offspring1 = parent1[:split_point]\n",
    "\n",
    "    # Добавляем значения от второго родителя после точки раздела\n",
    "    offspring1.extend(parent2[split_point:])\n",
    "    \n",
    "    # Выбираем значения от первого родителя до точки раздела\n",
    "    offspring2 = parent2[:split_point]\n",
    "\n",
    "    # Добавляем значения от второго родителя после точки раздела\n",
    "    offspring2.extend(parent1[split_point:])\n",
    "\n",
    "    return [offspring1, offspring2]"
   ],
   "metadata": {
    "collapsed": false,
    "ExecuteTime": {
     "end_time": "2024-01-08T21:27:51.039057023Z",
     "start_time": "2024-01-08T21:27:51.025176387Z"
    }
   },
   "id": "1ad71646971ae65e",
   "execution_count": 6
  },
  {
   "cell_type": "code",
   "outputs": [],
   "source": [
    "def linear_recombination(parent1, parent2):\n",
    "    # Выполняет линейную рекомбинацию между двумя родителями.\n",
    "    # \n",
    "    # :param parent1: Первый родитель (список значений)\n",
    "    # :param parent2: Второй родитель (список значений)\n",
    "    # :return: Список, содержащий двух потомков после линейной рекомбинации\n",
    "    \n",
    "    alpha = random.uniform(0, 1)  # Весовой коэффициент для рекомбинации\n",
    "\n",
    "    # Линейная рекомбинация: взвешенная сумма генов\n",
    "    child1 = [alpha * gene1 + (1 - alpha) * gene2 for gene1, gene2 in zip(parent1, parent2)]\n",
    "    child2 = [alpha * gene2 + (1 - alpha) * gene1 for gene1, gene2 in zip(parent1, parent2)]\n",
    "\n",
    "    return [child1, child2]"
   ],
   "metadata": {
    "collapsed": false,
    "ExecuteTime": {
     "end_time": "2024-01-08T21:27:51.041168964Z",
     "start_time": "2024-01-08T21:27:51.025285616Z"
    }
   },
   "id": "f52e5ba0e9705631",
   "execution_count": 7
  },
  {
   "cell_type": "markdown",
   "source": [
    "Функции рекомбинации для двоичного кода Грея"
   ],
   "metadata": {
    "collapsed": false
   },
   "id": "bffbe73a20fd4a0c"
  },
  {
   "cell_type": "code",
   "outputs": [],
   "source": [
    "def expand_genes(genes):\n",
    "    # Преобразуем каждый ген в строку длиной 4, дополняя нулями слева при необходимости\n",
    "    expanded_genes = [format(int(gene, 2), '04b') for gene in genes]\n",
    "    return expanded_genes\n",
    "\n",
    "def gray_crossover(parent1, parent2):\n",
    "    # Выбираем случайное место для кроссинговера\n",
    "    crossover_point = random.randint(1, len(parent1) - 1)\n",
    "\n",
    "    # Выполняем кроссинговер для каждого гена\n",
    "    child1 = parent1[:crossover_point] + parent2[crossover_point:]\n",
    "    child2 = parent2[:crossover_point] + parent1[crossover_point:]\n",
    "\n",
    "    return [child1, child2]"
   ],
   "metadata": {
    "collapsed": false,
    "ExecuteTime": {
     "end_time": "2024-01-08T21:27:51.041858976Z",
     "start_time": "2024-01-08T21:27:51.038230335Z"
    }
   },
   "id": "fd9b7568b4e0cbc2",
   "execution_count": 8
  },
  {
   "cell_type": "code",
   "outputs": [],
   "source": [
    "def gray_binary_shuffle_crossover(parent1, parent2):\n",
    "    # Перемешиваем гены обоих родителей случайным образом\n",
    "    child1 = ''.join(random.sample(''.join(parent1), len(''.join(parent1))))\n",
    "    child2 = ''.join(random.sample(''.join(parent2), len(''.join(parent2))))\n",
    "\n",
    "    # Разбиваем на два признака\n",
    "    child1_features = [child1[:2], child1[2:]]\n",
    "    child2_features = [child2[:2], child2[2:]]\n",
    "\n",
    "    for i in range(2):\n",
    "        if not child1_features[i].strip():\n",
    "            child1_features[i] = '0'\n",
    "        if not child2_features[i].strip():\n",
    "            child2_features[i] = '0'\n",
    "            \n",
    "    for i in range(2):\n",
    "        if len(child1_features[i]) > 4:\n",
    "            child1_features[i] = child1_features[i][:4]\n",
    "        if len(child2_features[i]) > 4:\n",
    "            child2_features[i] = child2_features[i][:4]\n",
    "\n",
    "    return [child1_features, child2_features]"
   ],
   "metadata": {
    "collapsed": false,
    "ExecuteTime": {
     "end_time": "2024-01-08T21:27:51.042217322Z",
     "start_time": "2024-01-08T21:27:51.038369594Z"
    }
   },
   "id": "ee146ac05872390b",
   "execution_count": 9
  },
  {
   "cell_type": "markdown",
   "source": [
    "Функции мутации"
   ],
   "metadata": {
    "collapsed": false
   },
   "id": "30da137c41208bf5"
  },
  {
   "cell_type": "code",
   "outputs": [],
   "source": [
    "def mutation(individual, mutation_rate):\n",
    "    # Выполняет мутацию с заданной вероятностью для каждого элемента особи.\n",
    "    # \n",
    "    # :param individual: Особь, которую нужно мутировать (список значений)\n",
    "    # :param mutation_rate: Вероятность мутации для каждого элемента (от 0 до 1)\n",
    "    # :return: Мутированная особь\n",
    "    \n",
    "    mutated_individual = []\n",
    "\n",
    "    for gene in individual:\n",
    "        # Мутируем каждый ген с фиксированной вероятностью\n",
    "        if random.random() < mutation_rate:\n",
    "            # Мутируем ген (вы можете использовать другую стратегию мутации)\n",
    "            mutated_gene = gene + random.uniform(-1, 1)\n",
    "            # Убеждаемся, что мутированный ген находится в пределах [-10, 10]\n",
    "            mutated_gene = max(-10, min(10, mutated_gene))\n",
    "        else:\n",
    "            mutated_gene = gene\n",
    "\n",
    "        mutated_individual.append(mutated_gene)\n",
    "\n",
    "    return mutated_individual"
   ],
   "metadata": {
    "collapsed": false,
    "ExecuteTime": {
     "end_time": "2024-01-08T21:27:51.084275889Z",
     "start_time": "2024-01-08T21:27:51.082993220Z"
    }
   },
   "id": "75375c3449468dc",
   "execution_count": 10
  },
  {
   "cell_type": "markdown",
   "source": [
    "Функция мутации для двоичного кода Грея"
   ],
   "metadata": {
    "collapsed": false
   },
   "id": "442b8e98a1733b0e"
  },
  {
   "cell_type": "code",
   "outputs": [],
   "source": [
    "def gray_binary_mutation(individual, mutation_rate):\n",
    "    mutated_individual = []\n",
    "\n",
    "    for gene in individual:\n",
    "        mutated_gene = \"\"\n",
    "        for bit in gene:\n",
    "            # Мутируем каждый бит с фиксированной вероятностью\n",
    "            if random.random() < mutation_rate:\n",
    "                mutated_gene += '0' if bit == '1' else '1'\n",
    "            else:\n",
    "                mutated_gene += bit\n",
    "\n",
    "        mutated_gene = gray_binary_to_decimal(mutated_gene)\n",
    "        mutated_gene = max(0, min(10, mutated_gene))\n",
    "        mutated_gene = decimal_to_gray_binary(mutated_gene)\n",
    "        mutated_individual.append(mutated_gene)\n",
    "\n",
    "    return mutated_individual"
   ],
   "metadata": {
    "collapsed": false,
    "ExecuteTime": {
     "end_time": "2024-01-08T21:27:51.085105161Z",
     "start_time": "2024-01-08T21:27:51.083194148Z"
    }
   },
   "id": "86efd88212442a0b",
   "execution_count": 11
  },
  {
   "cell_type": "markdown",
   "source": [
    "Функции селекции"
   ],
   "metadata": {
    "collapsed": false
   },
   "id": "c09ca04f825707d0"
  },
  {
   "cell_type": "code",
   "outputs": [],
   "source": [
    "def proportional_selection(population, num_parents):\n",
    "    # Выполняет пропорциональный отбор особей из популяции.\n",
    "    # \n",
    "    # :param population: Список особей (каждая особь представлена в виде списка значений)\n",
    "    # :param количество_родителей: Количество родителей, которое нужно выбрать\n",
    "    # :return: Список выбранных родителей\n",
    "    \n",
    "    fitness_values = [sambrero_funk(individual[0],individual[1]) for individual in population]\n",
    "    total_fitness = sum(fitness_values)\n",
    "    \n",
    "    # Рулеточный выбор родителей\n",
    "    selected_parents = []\n",
    "    for _ in range(num_parents):\n",
    "        roulette_wheel = random.uniform(0, total_fitness)\n",
    "        current_sum = 0\n",
    "\n",
    "        for i, fitness in enumerate(fitness_values):\n",
    "            current_sum += fitness\n",
    "            if current_sum >= roulette_wheel:\n",
    "                selected_parents.append(population[i])\n",
    "                break\n",
    "\n",
    "    return selected_parents"
   ],
   "metadata": {
    "collapsed": false,
    "ExecuteTime": {
     "end_time": "2024-01-08T21:27:51.085852093Z",
     "start_time": "2024-01-08T21:27:51.083277047Z"
    }
   },
   "id": "b49a835731de9de6",
   "execution_count": 12
  },
  {
   "cell_type": "code",
   "outputs": [],
   "source": [
    "def exclusion_selection(all_individuals, pop_size):\n",
    "    all_individuals.sort(key=lambda x: sambrero_funk(x[0], x[1]), reverse=True)\n",
    "\n",
    "    new_population = []\n",
    "    included_chromosomes = {}\n",
    "\n",
    "    for individual in all_individuals:\n",
    "        chromosome = tuple(individual)\n",
    "\n",
    "        if chromosome not in included_chromosomes:\n",
    "            new_population.append(individual)\n",
    "            included_chromosomes[chromosome] = True\n",
    "\n",
    "            if len(new_population) == pop_size:\n",
    "                break\n",
    "\n",
    "    return new_population"
   ],
   "metadata": {
    "collapsed": false,
    "ExecuteTime": {
     "end_time": "2024-01-08T21:27:51.086588199Z",
     "start_time": "2024-01-08T21:27:51.083360226Z"
    }
   },
   "id": "fbe0c2c2f93a5792",
   "execution_count": 13
  }
 ],
 "metadata": {
  "kernelspec": {
   "display_name": "Python 3",
   "language": "python",
   "name": "python3"
  },
  "language_info": {
   "codemirror_mode": {
    "name": "ipython",
    "version": 2
   },
   "file_extension": ".py",
   "mimetype": "text/x-python",
   "name": "python",
   "nbconvert_exporter": "python",
   "pygments_lexer": "ipython2",
   "version": "2.7.6"
  }
 },
 "nbformat": 4,
 "nbformat_minor": 5
}
